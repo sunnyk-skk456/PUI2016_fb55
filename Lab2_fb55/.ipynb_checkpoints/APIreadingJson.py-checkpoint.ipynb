{
 "cells": [
  {
   "cell_type": "code",
   "execution_count": 1,
   "metadata": {
    "collapsed": false
   },
   "outputs": [
    {
     "name": "stdout",
     "output_type": "stream",
     "text": [
      "Populating the interactive namespace from numpy and matplotlib\n"
     ]
    }
   ],
   "source": [
    "import pylab as pl\n",
    "import json\n",
    "import urllib.request as ulr\n",
    "%pylab inline\n",
    "\n",
    "url = \"http://api.openweathermap.org/data/2.5/forecast/daily?q=\" + \\\n",
    "\"NewYork&mode=Json&units=metric&cnt=7&APPID=\"+os.getenv(\"OPENWEATHKEY\") \n",
    "response = ulr.urlopen(url)\n",
    "data = response.read().decode(\"utf-8\")\n",
    "data = json.loads(data)"
   ]
  },
  {
   "cell_type": "code",
   "execution_count": 2,
   "metadata": {
    "collapsed": false
   },
   "outputs": [
    {
     "data": {
      "text/plain": [
       "dict"
      ]
     },
     "execution_count": 2,
     "metadata": {},
     "output_type": "execute_result"
    }
   ],
   "source": [
    "(type(data))"
   ]
  },
  {
   "cell_type": "code",
   "execution_count": 3,
   "metadata": {
    "collapsed": false
   },
   "outputs": [
    {
     "data": {
      "text/plain": [
       "dict_keys(['list', 'city', 'cnt', 'cod', 'message'])"
      ]
     },
     "execution_count": 3,
     "metadata": {},
     "output_type": "execute_result"
    }
   ],
   "source": [
    "data.keys()"
   ]
  },
  {
   "cell_type": "code",
   "execution_count": 4,
   "metadata": {
    "collapsed": false,
    "scrolled": true
   },
   "outputs": [
    {
     "data": {
      "text/plain": [
       "{'coord': {'lat': 40.714272, 'lon': -74.005966},\n",
       " 'country': 'US',\n",
       " 'id': 5128581,\n",
       " 'name': 'New York',\n",
       " 'population': 0}"
      ]
     },
     "execution_count": 4,
     "metadata": {},
     "output_type": "execute_result"
    }
   ],
   "source": [
    "data['city']"
   ]
  },
  {
   "cell_type": "code",
   "execution_count": 5,
   "metadata": {
    "collapsed": false
   },
   "outputs": [
    {
     "data": {
      "text/plain": [
       "[{'clouds': 0,\n",
       "  'deg': 173,\n",
       "  'dt': 1473696000,\n",
       "  'humidity': 80,\n",
       "  'pressure': 1018.36,\n",
       "  'speed': 1.16,\n",
       "  'temp': {'day': 16.23,\n",
       "   'eve': 16.23,\n",
       "   'max': 16.23,\n",
       "   'min': 16.23,\n",
       "   'morn': 16.23,\n",
       "   'night': 16.23},\n",
       "  'weather': [{'description': 'clear sky',\n",
       "    'icon': '01n',\n",
       "    'id': 800,\n",
       "    'main': 'Clear'}]},\n",
       " {'clouds': 0,\n",
       "  'deg': 223,\n",
       "  'dt': 1473782400,\n",
       "  'humidity': 59,\n",
       "  'pressure': 1018.67,\n",
       "  'speed': 1.43,\n",
       "  'temp': {'day': 24.4,\n",
       "   'eve': 27.97,\n",
       "   'max': 27.97,\n",
       "   'min': 13.39,\n",
       "   'morn': 13.39,\n",
       "   'night': 20.78},\n",
       "  'weather': [{'description': 'clear sky',\n",
       "    'icon': '01d',\n",
       "    'id': 800,\n",
       "    'main': 'Clear'}]},\n",
       " {'clouds': 0,\n",
       "  'deg': 235,\n",
       "  'dt': 1473868800,\n",
       "  'humidity': 59,\n",
       "  'pressure': 1012.74,\n",
       "  'rain': 2.1,\n",
       "  'speed': 1.86,\n",
       "  'temp': {'day': 27.06,\n",
       "   'eve': 29.59,\n",
       "   'max': 30.38,\n",
       "   'min': 18.72,\n",
       "   'morn': 19.93,\n",
       "   'night': 18.72},\n",
       "  'weather': [{'description': 'light rain',\n",
       "    'icon': '10d',\n",
       "    'id': 500,\n",
       "    'main': 'Rain'}]},\n",
       " {'clouds': 0,\n",
       "  'deg': 4,\n",
       "  'dt': 1473955200,\n",
       "  'humidity': 54,\n",
       "  'pressure': 1019.09,\n",
       "  'speed': 2.74,\n",
       "  'temp': {'day': 16.58,\n",
       "   'eve': 19.93,\n",
       "   'max': 19.93,\n",
       "   'min': 12.54,\n",
       "   'morn': 13.61,\n",
       "   'night': 12.54},\n",
       "  'weather': [{'description': 'clear sky',\n",
       "    'icon': '01d',\n",
       "    'id': 800,\n",
       "    'main': 'Clear'}]},\n",
       " {'clouds': 0,\n",
       "  'deg': 28,\n",
       "  'dt': 1474041600,\n",
       "  'humidity': 0,\n",
       "  'pressure': 1021.91,\n",
       "  'speed': 1.33,\n",
       "  'temp': {'day': 22.08,\n",
       "   'eve': 17.4,\n",
       "   'max': 22.08,\n",
       "   'min': 13.54,\n",
       "   'morn': 13.56,\n",
       "   'night': 13.54},\n",
       "  'weather': [{'description': 'clear sky',\n",
       "    'icon': '01d',\n",
       "    'id': 800,\n",
       "    'main': 'Clear'}]},\n",
       " {'clouds': 90,\n",
       "  'deg': 169,\n",
       "  'dt': 1474128000,\n",
       "  'humidity': 0,\n",
       "  'pressure': 1018.87,\n",
       "  'rain': 1.44,\n",
       "  'speed': 3.85,\n",
       "  'temp': {'day': 22.83,\n",
       "   'eve': 21.99,\n",
       "   'max': 22.83,\n",
       "   'min': 15.57,\n",
       "   'morn': 15.57,\n",
       "   'night': 21.26},\n",
       "  'weather': [{'description': 'light rain',\n",
       "    'icon': '10d',\n",
       "    'id': 500,\n",
       "    'main': 'Rain'}]},\n",
       " {'clouds': 27,\n",
       "  'deg': 277,\n",
       "  'dt': 1474214400,\n",
       "  'humidity': 0,\n",
       "  'pressure': 1012.14,\n",
       "  'rain': 4.02,\n",
       "  'speed': 1.86,\n",
       "  'temp': {'day': 24.99,\n",
       "   'eve': 21.1,\n",
       "   'max': 24.99,\n",
       "   'min': 16.6,\n",
       "   'morn': 21.25,\n",
       "   'night': 16.6},\n",
       "  'weather': [{'description': 'moderate rain',\n",
       "    'icon': '10d',\n",
       "    'id': 501,\n",
       "    'main': 'Rain'}]}]"
      ]
     },
     "execution_count": 5,
     "metadata": {},
     "output_type": "execute_result"
    }
   ],
   "source": [
    "data['list']"
   ]
  },
  {
   "cell_type": "code",
   "execution_count": 10,
   "metadata": {
    "collapsed": false
   },
   "outputs": [
    {
     "data": {
      "text/plain": [
       "16.23"
      ]
     },
     "execution_count": 10,
     "metadata": {},
     "output_type": "execute_result"
    }
   ],
   "source": [
    "data['list'][0]['dt']\n",
    "data['list'][0]['temp']['eve']"
   ]
  },
  {
   "cell_type": "code",
   "execution_count": 28,
   "metadata": {
    "collapsed": false
   },
   "outputs": [
    {
     "name": "stdout",
     "output_type": "stream",
     "text": [
      "1473696000 16.23\n",
      "1473782400 27.97\n",
      "1473868800 29.59\n",
      "1473955200 19.93\n",
      "1474041600 17.4\n",
      "1474128000 21.99\n",
      "1474214400 21.1\n"
     ]
    },
    {
     "data": {
      "image/png": "[encoded data removed]",
      "text/plain": [
       "<matplotlib.figure.Figure at 0x7f51ae148c18>"
      ]
     },
     "metadata": {},
     "output_type": "display_data"
    }
   ],
   "source": [
    "f = pl.figure()\n",
    "for it in data['list']:\n",
    "    print (it['dt'], it['temp']['eve'])\n",
    "    for k in it['temp']:\n",
    "        pl.plot(it['dt'], it['temp'][k], 'ko')\n"
   ]
  },
  {
   "cell_type": "code",
   "execution_count": null,
   "metadata": {
    "collapsed": true
   },
   "outputs": [],
   "source": []
  }
 ],
 "metadata": {
  "kernelspec": {
   "display_name": "Python 3",
   "language": "python",
   "name": "python3"
  },
  "language_info": {
   "codemirror_mode": {
    "name": "ipython",
    "version": 3
   },
   "file_extension": ".py",
   "mimetype": "text/x-python",
   "name": "python",
   "nbconvert_exporter": "python",
   "pygments_lexer": "ipython3",
   "version": "3.5.1"
  }
 },
 "nbformat": 4,
 "nbformat_minor": 0
}
