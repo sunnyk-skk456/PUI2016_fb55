{
 "cells": [
  {
   "cell_type": "code",
   "execution_count": 1,
   "metadata": {
    "collapsed": false
   },
   "outputs": [
    {
     "name": "stdout",
     "output_type": "stream",
     "text": [
      "/Users/fbianco/science/Dropbox//UI/PUIdata\n"
     ]
    }
   ],
   "source": [
    "from __future__ import division, print_function\n",
    "__author__ = 'fbb CUSP 2016'\n",
    "import os\n",
    "import numpy as np\n",
    "from numpy.random import randn\n",
    "import pylab as pl\n",
    "\n",
    "from pandas import Series, DataFrame\n",
    "import pandas\n",
    "import pandas as pd\n",
    "\n",
    "PUIdata = os.getenv(\"PUIDATA\")\n",
    "print (PUIdata)"
   ]
  },
  {
   "cell_type": "code",
   "execution_count": 1,
   "metadata": {
    "collapsed": false
   },
   "outputs": [
    {
     "data": {
      "text/plain": [
       "\"\\nNotebook that parces and formatts Table 6.1 of D. Lane's Introduction to Statistics\\nusing Pandas functionalities\\n\\nRefer to https://github.com/fedhere/UInotebooks/blob/master/dataWrangling/PandasDataWrangling-Chap7.ipynb\\nand Python for Data Analysis Chaoter 7\\nfor more pandas data munging functions and methods!\\n\""
      ]
     },
     "execution_count": 1,
     "metadata": {},
     "output_type": "execute_result"
    }
   ],
   "source": [
    "\"\"\"\n",
    "Notebook that parces and formatts Table 6.1 of D. Lane's Introduction to Statistics\n",
    "using Pandas functionalities\n",
    "\n",
    "Refer to https://github.com/fedhere/UInotebooks/blob/master/dataWrangling/PandasDataWrangling-Chap7.ipynb\n",
    "and Python for Data Analysis Chaoter 7\n",
    "for more pandas data munging functions and methods!\n",
    "\"\"\""
   ]
  },
  {
   "cell_type": "code",
   "execution_count": 13,
   "metadata": {
    "collapsed": false
   },
   "outputs": [
    {
     "name": "stdout",
     "output_type": "stream",
     "text": [
      "Populating the interactive namespace from numpy and matplotlib\n"
     ]
    }
   ],
   "source": [
    "# setting up some preferences\n",
    "%pylab inline\n",
    "\n",
    "np.set_printoptions(precision=4, threshold=500)\n",
    "np.random.seed(123321)\n",
    "pl.rc('figure', figsize=(10, 6))\n",
    "pd.options.display.max_rows = 100"
   ]
  },
  {
   "cell_type": "code",
   "execution_count": 14,
   "metadata": {
    "collapsed": false
   },
   "outputs": [],
   "source": [
    "df_student = pd.read_csv(PUIdata + \"/IntrotoStats_Table6_1.csv\")\n",
    "df_student['Hair Color'] = df_student['Hair Color'].replace({'Brown':1,'Blonde':0,'Black':2})"
   ]
  },
  {
   "cell_type": "code",
   "execution_count": 15,
   "metadata": {
    "collapsed": false
   },
   "outputs": [
    {
     "data": {
      "text/html": [
       "<div>\n",
       "<table border=\"1\" class=\"dataframe\">\n",
       "  <thead>\n",
       "    <tr style=\"text-align: right;\">\n",
       "      <th></th>\n",
       "      <th>#Students Name</th>\n",
       "      <th>Hair Color</th>\n",
       "      <th>Gender</th>\n",
       "      <th>Major</th>\n",
       "      <th>Height</th>\n",
       "      <th>Computer Experience</th>\n",
       "    </tr>\n",
       "  </thead>\n",
       "  <tbody>\n",
       "    <tr>\n",
       "      <th>0</th>\n",
       "      <td>Norma</td>\n",
       "      <td>1</td>\n",
       "      <td>Female</td>\n",
       "      <td>Psychology</td>\n",
       "      <td>5'4\"</td>\n",
       "      <td>Lots</td>\n",
       "    </tr>\n",
       "    <tr>\n",
       "      <th>1</th>\n",
       "      <td>Amber</td>\n",
       "      <td>0</td>\n",
       "      <td>Female</td>\n",
       "      <td>Social Science</td>\n",
       "      <td>5'7\"</td>\n",
       "      <td>Very Little</td>\n",
       "    </tr>\n",
       "    <tr>\n",
       "      <th>2</th>\n",
       "      <td>Paul</td>\n",
       "      <td>0</td>\n",
       "      <td>Male</td>\n",
       "      <td>History</td>\n",
       "      <td>6'1\"</td>\n",
       "      <td>Moderate</td>\n",
       "    </tr>\n",
       "    <tr>\n",
       "      <th>3</th>\n",
       "      <td>Christopher</td>\n",
       "      <td>2</td>\n",
       "      <td>Male</td>\n",
       "      <td>Biology</td>\n",
       "      <td>5'10\"</td>\n",
       "      <td>Lots</td>\n",
       "    </tr>\n",
       "    <tr>\n",
       "      <th>4</th>\n",
       "      <td>Sonya</td>\n",
       "      <td>1</td>\n",
       "      <td>Female</td>\n",
       "      <td>Psychology</td>\n",
       "      <td>5'4\"</td>\n",
       "      <td>Little</td>\n",
       "    </tr>\n",
       "  </tbody>\n",
       "</table>\n",
       "</div>"
      ],
      "text/plain": [
       "  #Students Name  Hair Color  Gender           Major Height  \\\n",
       "0          Norma           1  Female      Psychology   5'4\"   \n",
       "1          Amber           0  Female  Social Science   5'7\"   \n",
       "2           Paul           0    Male         History   6'1\"   \n",
       "3    Christopher           2    Male         Biology  5'10\"   \n",
       "4          Sonya           1  Female      Psychology   5'4\"   \n",
       "\n",
       "  Computer Experience  \n",
       "0                Lots  \n",
       "1         Very Little  \n",
       "2            Moderate  \n",
       "3                Lots  \n",
       "4              Little  "
      ]
     },
     "execution_count": 15,
     "metadata": {},
     "output_type": "execute_result"
    }
   ],
   "source": [
    "df_student"
   ]
  },
  {
   "cell_type": "code",
   "execution_count": 16,
   "metadata": {
    "collapsed": true
   },
   "outputs": [],
   "source": [
    "df_student.Gender = df_student.Gender.replace('Female', 0)"
   ]
  },
  {
   "cell_type": "code",
   "execution_count": 17,
   "metadata": {
    "collapsed": false
   },
   "outputs": [],
   "source": [
    "df_student.Gender = df_student.Gender.replace('Male', 1)"
   ]
  },
  {
   "cell_type": "code",
   "execution_count": 18,
   "metadata": {
    "collapsed": true
   },
   "outputs": [],
   "source": [
    "experience_to_number = {\n",
    "    'None' : 0,\n",
    "    'Very Little' : 1,\n",
    "    'Little' : 2,\n",
    "    'Moderate' : 3,    \n",
    "    'Good' : 4,\n",
    "    'Lots' : 5\n",
    "}"
   ]
  },
  {
   "cell_type": "code",
   "execution_count": 19,
   "metadata": {
    "collapsed": false
   },
   "outputs": [],
   "source": [
    "df_student['Experience'] = df_student['Computer Experience'].map(experience_to_number)  "
   ]
  },
  {
   "cell_type": "code",
   "execution_count": 20,
   "metadata": {
    "collapsed": false
   },
   "outputs": [],
   "source": [
    "df_student.drop(['Computer Experience', 'Major', '#Students Name'], axis=1, inplace=True)"
   ]
  },
  {
   "cell_type": "code",
   "execution_count": 21,
   "metadata": {
    "collapsed": false
   },
   "outputs": [
    {
     "data": {
      "text/html": [
       "<div>\n",
       "<table border=\"1\" class=\"dataframe\">\n",
       "  <thead>\n",
       "    <tr style=\"text-align: right;\">\n",
       "      <th></th>\n",
       "      <th>Hair Color</th>\n",
       "      <th>Gender</th>\n",
       "      <th>Height</th>\n",
       "      <th>Experience</th>\n",
       "    </tr>\n",
       "  </thead>\n",
       "  <tbody>\n",
       "    <tr>\n",
       "      <th>0</th>\n",
       "      <td>1</td>\n",
       "      <td>0</td>\n",
       "      <td>5'4\"</td>\n",
       "      <td>5</td>\n",
       "    </tr>\n",
       "    <tr>\n",
       "      <th>1</th>\n",
       "      <td>0</td>\n",
       "      <td>0</td>\n",
       "      <td>5'7\"</td>\n",
       "      <td>1</td>\n",
       "    </tr>\n",
       "    <tr>\n",
       "      <th>2</th>\n",
       "      <td>0</td>\n",
       "      <td>1</td>\n",
       "      <td>6'1\"</td>\n",
       "      <td>3</td>\n",
       "    </tr>\n",
       "    <tr>\n",
       "      <th>3</th>\n",
       "      <td>2</td>\n",
       "      <td>1</td>\n",
       "      <td>5'10\"</td>\n",
       "      <td>5</td>\n",
       "    </tr>\n",
       "    <tr>\n",
       "      <th>4</th>\n",
       "      <td>1</td>\n",
       "      <td>0</td>\n",
       "      <td>5'4\"</td>\n",
       "      <td>2</td>\n",
       "    </tr>\n",
       "  </tbody>\n",
       "</table>\n",
       "</div>"
      ],
      "text/plain": [
       "   Hair Color  Gender Height  Experience\n",
       "0           1       0   5'4\"           5\n",
       "1           0       0   5'7\"           1\n",
       "2           0       1   6'1\"           3\n",
       "3           2       1  5'10\"           5\n",
       "4           1       0   5'4\"           2"
      ]
     },
     "execution_count": 21,
     "metadata": {},
     "output_type": "execute_result"
    }
   ],
   "source": [
    "df_student"
   ]
  },
  {
   "cell_type": "code",
   "execution_count": 22,
   "metadata": {
    "collapsed": true
   },
   "outputs": [],
   "source": [
    "def formatHeight(heightstring):\n",
    "    hs = heightstring.replace('\"','').split(\"'\")\n",
    "    return float(hs[0]) * 12 + float(hs[1])\n"
   ]
  },
  {
   "cell_type": "code",
   "execution_count": 23,
   "metadata": {
    "collapsed": true
   },
   "outputs": [],
   "source": [
    "df_student.Height = df_student.Height.map(formatHeight)"
   ]
  },
  {
   "cell_type": "code",
   "execution_count": 24,
   "metadata": {
    "collapsed": false
   },
   "outputs": [
    {
     "data": {
      "text/html": [
       "<div>\n",
       "<table border=\"1\" class=\"dataframe\">\n",
       "  <thead>\n",
       "    <tr style=\"text-align: right;\">\n",
       "      <th></th>\n",
       "      <th>Hair Color</th>\n",
       "      <th>Gender</th>\n",
       "      <th>Height</th>\n",
       "      <th>Experience</th>\n",
       "    </tr>\n",
       "  </thead>\n",
       "  <tbody>\n",
       "    <tr>\n",
       "      <th>0</th>\n",
       "      <td>1</td>\n",
       "      <td>0</td>\n",
       "      <td>64</td>\n",
       "      <td>5</td>\n",
       "    </tr>\n",
       "    <tr>\n",
       "      <th>1</th>\n",
       "      <td>0</td>\n",
       "      <td>0</td>\n",
       "      <td>67</td>\n",
       "      <td>1</td>\n",
       "    </tr>\n",
       "    <tr>\n",
       "      <th>2</th>\n",
       "      <td>0</td>\n",
       "      <td>1</td>\n",
       "      <td>73</td>\n",
       "      <td>3</td>\n",
       "    </tr>\n",
       "    <tr>\n",
       "      <th>3</th>\n",
       "      <td>2</td>\n",
       "      <td>1</td>\n",
       "      <td>70</td>\n",
       "      <td>5</td>\n",
       "    </tr>\n",
       "    <tr>\n",
       "      <th>4</th>\n",
       "      <td>1</td>\n",
       "      <td>0</td>\n",
       "      <td>64</td>\n",
       "      <td>2</td>\n",
       "    </tr>\n",
       "  </tbody>\n",
       "</table>\n",
       "</div>"
      ],
      "text/plain": [
       "   Hair Color  Gender  Height  Experience\n",
       "0           1       0      64           5\n",
       "1           0       0      67           1\n",
       "2           0       1      73           3\n",
       "3           2       1      70           5\n",
       "4           1       0      64           2"
      ]
     },
     "execution_count": 24,
     "metadata": {},
     "output_type": "execute_result"
    }
   ],
   "source": [
    "df_student"
   ]
  },
  {
   "cell_type": "code",
   "execution_count": 25,
   "metadata": {
    "collapsed": false
   },
   "outputs": [
    {
     "name": "stdout",
     "output_type": "stream",
     "text": [
      "Warning: Maximum number of iterations has been exceeded.\n",
      "         Current function value: 0.277259\n",
      "         Iterations: 35\n",
      "Parameters:              0           1          2\n",
      "x1  -0.430085   -0.468774  -0.329497\n",
      "x2  49.557191   19.275407  43.119545\n",
      "x3 -10.403709  100.547329  69.441349\n"
     ]
    },
    {
     "name": "stderr",
     "output_type": "stream",
     "text": [
      "//anaconda/lib/python3.5/site-packages/statsmodels/base/model.py:466: ConvergenceWarning: Maximum Likelihood optimization failed to converge. Check mle_retvals\n",
      "  \"Check mle_retvals\", ConvergenceWarning)\n"
     ]
    }
   ],
   "source": [
    "import numpy as np\n",
    "import statsmodels.api as sm\n",
    "logit_mod = sm.MNLogit(df_student.Experience, np.array([df_student.Height, \n",
    "                                               df_student['Hair Color'], \n",
    "                                               df_student.Gender]).T)\n",
    "logit_res = logit_mod.fit()\n",
    "print('Parameters: ', logit_res.params)"
   ]
  },
  {
   "cell_type": "code",
   "execution_count": 26,
   "metadata": {
    "collapsed": false
   },
   "outputs": [
    {
     "data": {
      "text/html": [
       "<table class=\"simpletable\">\n",
       "<caption>MNLogit Regression Results</caption>\n",
       "<tr>\n",
       "  <th>Dep. Variable:</th>    <td>Experience</td>    <th>  No. Observations:  </th>  <td>     5</td> \n",
       "</tr>\n",
       "<tr>\n",
       "  <th>Model:</th>              <td>MNLogit</td>     <th>  Df Residuals:      </th>  <td>    -4</td> \n",
       "</tr>\n",
       "<tr>\n",
       "  <th>Method:</th>               <td>MLE</td>       <th>  Df Model:          </th>  <td>     6</td> \n",
       "</tr>\n",
       "<tr>\n",
       "  <th>Date:</th>          <td>Tue, 13 Sep 2016</td> <th>  Pseudo R-squ.:     </th>  <td>0.7919</td> \n",
       "</tr>\n",
       "<tr>\n",
       "  <th>Time:</th>              <td>07:23:36</td>     <th>  Log-Likelihood:    </th> <td> -1.3863</td>\n",
       "</tr>\n",
       "<tr>\n",
       "  <th>converged:</th>           <td>False</td>      <th>  LL-Null:           </th> <td> -6.6609</td>\n",
       "</tr>\n",
       "<tr>\n",
       "  <th> </th>                      <td> </td>        <th>  LLR p-value:       </th>  <td>0.1033</td> \n",
       "</tr>\n",
       "</table>\n",
       "<table class=\"simpletable\">\n",
       "<tr>\n",
       "  <th>Experience=2</th>    <th>coef</th>     <th>std err</th>      <th>z</th>      <th>P>|z|</th> <th>[95.0% Conf. Int.]</th> \n",
       "</tr>\n",
       "<tr>\n",
       "  <th>x1</th>           <td>   -0.4301</td> <td>  2.7e+04</td> <td>-1.59e-05</td> <td> 1.000</td> <td>-5.29e+04  5.29e+04</td>\n",
       "</tr>\n",
       "<tr>\n",
       "  <th>x2</th>           <td>   49.5572</td> <td> 1.73e+06</td> <td> 2.87e-05</td> <td> 1.000</td> <td>-3.39e+06  3.39e+06</td>\n",
       "</tr>\n",
       "<tr>\n",
       "  <th>x3</th>           <td>  -10.4037</td> <td> 1.18e+16</td> <td>-8.83e-16</td> <td> 1.000</td> <td>-2.31e+16  2.31e+16</td>\n",
       "</tr>\n",
       "<tr>\n",
       "  <th>Experience=3</th>    <th>coef</th>     <th>std err</th>      <th>z</th>      <th>P>|z|</th> <th>[95.0% Conf. Int.]</th> \n",
       "</tr>\n",
       "<tr>\n",
       "  <th>x1</th>           <td>   -0.4688</td> <td> 8.83e+04</td> <td>-5.31e-06</td> <td> 1.000</td> <td>-1.73e+05  1.73e+05</td>\n",
       "</tr>\n",
       "<tr>\n",
       "  <th>x2</th>           <td>   19.2754</td> <td> 3.05e+05</td> <td> 6.33e-05</td> <td> 1.000</td> <td>-5.97e+05  5.97e+05</td>\n",
       "</tr>\n",
       "<tr>\n",
       "  <th>x3</th>           <td>  100.5473</td> <td>  8.8e+07</td> <td> 1.14e-06</td> <td> 1.000</td> <td>-1.72e+08  1.72e+08</td>\n",
       "</tr>\n",
       "<tr>\n",
       "  <th>Experience=5</th>    <th>coef</th>     <th>std err</th>      <th>z</th>      <th>P>|z|</th> <th>[95.0% Conf. Int.]</th> \n",
       "</tr>\n",
       "<tr>\n",
       "  <th>x1</th>           <td>   -0.3295</td> <td>  928.392</td> <td>   -0.000</td> <td> 1.000</td> <td>-1819.944  1819.285</td>\n",
       "</tr>\n",
       "<tr>\n",
       "  <th>x2</th>           <td>   43.1195</td> <td>  8.5e+04</td> <td>    0.001</td> <td> 1.000</td> <td>-1.67e+05  1.67e+05</td>\n",
       "</tr>\n",
       "<tr>\n",
       "  <th>x3</th>           <td>   69.4413</td> <td> 8.78e+07</td> <td> 7.91e-07</td> <td> 1.000</td> <td>-1.72e+08  1.72e+08</td>\n",
       "</tr>\n",
       "</table>"
      ],
      "text/plain": [
       "<class 'statsmodels.iolib.summary.Summary'>\n",
       "\"\"\"\n",
       "                          MNLogit Regression Results                          \n",
       "==============================================================================\n",
       "Dep. Variable:             Experience   No. Observations:                    5\n",
       "Model:                        MNLogit   Df Residuals:                       -4\n",
       "Method:                           MLE   Df Model:                            6\n",
       "Date:                Tue, 13 Sep 2016   Pseudo R-squ.:                  0.7919\n",
       "Time:                        07:23:36   Log-Likelihood:                -1.3863\n",
       "converged:                      False   LL-Null:                       -6.6609\n",
       "                                        LLR p-value:                    0.1033\n",
       "================================================================================\n",
       "Experience=2       coef    std err          z      P>|z|      [95.0% Conf. Int.]\n",
       "--------------------------------------------------------------------------------\n",
       "x1              -0.4301    2.7e+04  -1.59e-05      1.000     -5.29e+04  5.29e+04\n",
       "x2              49.5572   1.73e+06   2.87e-05      1.000     -3.39e+06  3.39e+06\n",
       "x3             -10.4037   1.18e+16  -8.83e-16      1.000     -2.31e+16  2.31e+16\n",
       "--------------------------------------------------------------------------------\n",
       "Experience=3       coef    std err          z      P>|z|      [95.0% Conf. Int.]\n",
       "--------------------------------------------------------------------------------\n",
       "x1              -0.4688   8.83e+04  -5.31e-06      1.000     -1.73e+05  1.73e+05\n",
       "x2              19.2754   3.05e+05   6.33e-05      1.000     -5.97e+05  5.97e+05\n",
       "x3             100.5473    8.8e+07   1.14e-06      1.000     -1.72e+08  1.72e+08\n",
       "--------------------------------------------------------------------------------\n",
       "Experience=5       coef    std err          z      P>|z|      [95.0% Conf. Int.]\n",
       "--------------------------------------------------------------------------------\n",
       "x1              -0.3295    928.392     -0.000      1.000     -1819.944  1819.285\n",
       "x2              43.1195    8.5e+04      0.001      1.000     -1.67e+05  1.67e+05\n",
       "x3              69.4413   8.78e+07   7.91e-07      1.000     -1.72e+08  1.72e+08\n",
       "================================================================================\n",
       "\"\"\""
      ]
     },
     "execution_count": 26,
     "metadata": {},
     "output_type": "execute_result"
    }
   ],
   "source": [
    "logit_res.summary()"
   ]
  },
  {
   "cell_type": "code",
   "execution_count": 27,
   "metadata": {
    "collapsed": false
   },
   "outputs": [
    {
     "data": {
      "image/png": "[encoded data removed]",
      "text/plain": [
       "<matplotlib.figure.Figure at 0x11a444828>"
      ]
     },
     "metadata": {},
     "output_type": "display_data"
    }
   ],
   "source": [
    "fig = pl.figure(figsize=(12,8))\n",
    "fig = sm.graphics.plot_partregress_grid(logit_res, fig=fig)\n"
   ]
  },
  {
   "cell_type": "code",
   "execution_count": null,
   "metadata": {
    "collapsed": true
   },
   "outputs": [],
   "source": []
  }
 ],
 "metadata": {
  "kernelspec": {
   "display_name": "Python 3",
   "language": "python",
   "name": "python3"
  },
  "language_info": {
   "codemirror_mode": {
    "name": "ipython",
    "version": 3
   },
   "file_extension": ".py",
   "mimetype": "text/x-python",
   "name": "python",
   "nbconvert_exporter": "python",
   "pygments_lexer": "ipython3",
   "version": "3.5.1"
  }
 },
 "nbformat": 4,
 "nbformat_minor": 0
}
