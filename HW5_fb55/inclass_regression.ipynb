{
 "cells": [
  {
   "cell_type": "code",
   "execution_count": 21,
   "metadata": {
    "collapsed": false
   },
   "outputs": [
    {
     "name": "stdout",
     "output_type": "stream",
     "text": [
      "Populating the interactive namespace from numpy and matplotlib\n"
     ]
    }
   ],
   "source": [
    "#geoff's regression code\n",
    "import numpy as np\n",
    "import pylab as pl\n",
    "import statsmodels.api as sm\n",
    "%pylab inline\n",
    "\n",
    "np.random.seed(123)\n"
   ]
  },
  {
   "cell_type": "code",
   "execution_count": 17,
   "metadata": {
    "collapsed": false
   },
   "outputs": [],
   "source": [
    "x = np.arange(0.0, 20.0, 0.5)\n",
    "a = np.random.rand(2)"
   ]
  },
  {
   "cell_type": "code",
   "execution_count": 63,
   "metadata": {
    "collapsed": false
   },
   "outputs": [
    {
     "name": "stdout",
     "output_type": "stream",
     "text": [
      "[  0.32677133   0.24644619   1.25066211   2.73979126   3.01038458\n",
      "   0.23046642   5.42287444   0.53372857   3.23047011   2.87145752\n",
      "   1.67050191   3.96647868   2.9833269    4.95900353   5.96759556\n",
      "   8.45351696   6.47266126   4.98367673   5.77112238   7.18255281\n",
      "   7.43775285  10.51824432  10.73800624   7.57766312   7.54648531\n",
      "   3.87789495   8.24239792   7.73235793   9.32705902  11.16811101\n",
      "  11.08756178  11.0214757   11.82881053  11.52564535  12.52015336\n",
      "   6.01224007  12.2839977   12.94911783  12.83653043  13.43139593]\n"
     ]
    }
   ],
   "source": [
    "def line(a, x):\n",
    "    '''\n",
    "    this function returns the output of a y with \n",
    "    the given input parameters\n",
    "    '''\n",
    "    y = (a[0]*x + a[1]) + np.random.randn(len(x))*2\n",
    "    return y\n",
    "\n",
    "y = line(a, np.arange(0, 20, 0.5))\n",
    "print (line(a, np.arange(0, 20, 0.5)))"
   ]
  },
  {
   "cell_type": "code",
   "execution_count": 66,
   "metadata": {
    "collapsed": false
   },
   "outputs": [
    {
     "data": {
      "text/plain": [
       "[<matplotlib.lines.Line2D at 0x115737390>]"
      ]
     },
     "execution_count": 66,
     "metadata": {},
     "output_type": "execute_result"
    },
    {
     "data": {
      "image/png": "[encoded data removed]",
      "text/plain": [
       "<matplotlib.figure.Figure at 0x11659a7b8>"
      ]
     },
     "metadata": {},
     "output_type": "display_data"
    }
   ],
   "source": [
    "pl.plot(np.arange(0, 20, 0.5), y, 'bo')"
   ]
  },
  {
   "cell_type": "code",
   "execution_count": 29,
   "metadata": {
    "collapsed": true
   },
   "outputs": [],
   "source": [
    "?sm.OLS()"
   ]
  },
  {
   "cell_type": "code",
   "execution_count": 67,
   "metadata": {
    "collapsed": false
   },
   "outputs": [],
   "source": [
    "x = sm.add_constant(np.arange(0,20,0.5))"
   ]
  },
  {
   "cell_type": "code",
   "execution_count": 72,
   "metadata": {
    "collapsed": true
   },
   "outputs": [],
   "source": [
    "?sm.add_constant"
   ]
  },
  {
   "cell_type": "code",
   "execution_count": 68,
   "metadata": {
    "collapsed": false
   },
   "outputs": [],
   "source": [
    "x_new = sm.add_constant(np.arange(0.0, 20, 0.1))"
   ]
  },
  {
   "cell_type": "code",
   "execution_count": 71,
   "metadata": {
    "collapsed": false
   },
   "outputs": [
    {
     "data": {
      "text/plain": [
       "[<matplotlib.lines.Line2D at 0x1165b5c18>]"
      ]
     },
     "execution_count": 71,
     "metadata": {},
     "output_type": "execute_result"
    },
    {
     "data": {
      "image/png": "[encoded data removed]",
      "text/plain": [
       "<matplotlib.figure.Figure at 0x1165b5ba8>"
      ]
     },
     "metadata": {},
     "output_type": "display_data"
    }
   ],
   "source": [
    "regress = sm.OLS(y, x)\n",
    "modelfit= regress.fit()\n",
    "\n",
    "#regress.predict(np.arange(0.0, 20, 0.1))\n",
    "pl.plot(np.arange(0, 20, 0.5), line(a, np.arange(0, 20, 0.5)), 'bo')\n",
    "pl.plot(np.arange(0.0, 20, 0.1), modelfit.predict(x_new), 'k-')\n",
    "\n"
   ]
  }
 ],
 "metadata": {
  "kernelspec": {
   "display_name": "Python 3",
   "language": "python",
   "name": "python3"
  },
  "language_info": {
   "codemirror_mode": {
    "name": "ipython",
    "version": 3
   },
   "file_extension": ".py",
   "mimetype": "text/x-python",
   "name": "python",
   "nbconvert_exporter": "python",
   "pygments_lexer": "ipython3",
   "version": "3.5.2"
  }
 },
 "nbformat": 4,
 "nbformat_minor": 0
}
