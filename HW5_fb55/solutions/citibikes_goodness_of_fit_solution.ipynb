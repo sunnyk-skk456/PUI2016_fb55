{
 "cells": [
  {
   "cell_type": "markdown",
   "metadata": {
    "collapsed": true
   },
   "source": [
    "# Assignment 1:\n",
    "  Test whether a gaussian model N($\\mu$, $\\sigma$) for the age distribution of citibike riders is a sensible model, or if you can find a better fit with another distribution. \n",
    "\n",
    "- Use 2 tests: KS, AD, KL, chisq (even though we have not talked about it in detail yet) to do this. \n",
    "\n",
    "- Test at the Normal and a least one other distributions (e.g. Poisson, or Binomial, or Chisq, Lognormal.......)\n",
    "    \n",
    "   Divide your sample geographically: \n",
    "by Borrow + split Manhattan in an Uptown and a Downtown sample "
   ]
  },
  {
   "cell_type": "markdown",
   "metadata": {},
   "source": [
    "my usual imports and setups"
   ]
  },
  {
   "cell_type": "code",
   "execution_count": 5,
   "metadata": {
    "collapsed": false,
    "scrolled": true
   },
   "outputs": [
    {
     "name": "stdout",
     "output_type": "stream",
     "text": [
      "Populating the interactive namespace from numpy and matplotlib\n"
     ]
    },
    {
     "name": "stderr",
     "output_type": "stream",
     "text": [
      "//anaconda/lib/python3.5/site-packages/matplotlib-2.0.0b4+2344.g7b27a1b-py3.5-macosx-10.6-x86_64.egg/matplotlib/__init__.py:910: UserWarning: axes.color_cycle is deprecated and replaced with axes.prop_cycle; please use the latter.\n",
      "  warnings.warn(self.msg_depr % (key, alt_key))\n",
      "//anaconda/lib/python3.5/site-packages/matplotlib-2.0.0b4+2344.g7b27a1b-py3.5-macosx-10.6-x86_64.egg/matplotlib/__init__.py:910: UserWarning: svg.embed_char_paths is deprecated and replaced with svg.fonttype; please use the latter.\n",
      "  warnings.warn(self.msg_depr % (key, alt_key))\n"
     ]
    }
   ],
   "source": [
    "import pylab as pl\n",
    "import pandas as pd\n",
    "import numpy as np\n",
    "from getCitiBikeCSV import getCitiBikeCSV \n",
    "from get_jsonparsed_data import get_jsonparsed_data\n",
    "import json\n",
    "\n",
    "#i know i will use scipy for the tests\n",
    "import scipy.stats\n",
    "import os\n",
    "\n",
    "#this makes my plots pretty! but it is totally not mandatory to do it\n",
    "import json\n",
    "s = json.load( open(os.getenv ('PUI2016')+\"/fbb_matplotlibrc.json\") )\n",
    "pl.rcParams.update(s)\n",
    "\n",
    "%pylab inline"
   ]
  },
  {
   "cell_type": "markdown",
   "metadata": {},
   "source": [
    "## Throughout I will use a significance level $\\alpha = 0.01$"
   ]
  },
  {
   "cell_type": "markdown",
   "metadata": {},
   "source": [
    "I dont want to suffer a seasonal bias. I will take 2 months from 2 seasons (no penalty if you did not do this, but it is a good idea to reduce bias isn't it??), lets start reading in data from January 2015, and June 2015. \n",
    "One month is not a season of course. I am being a but lazy but you should not be. \n",
    "\n"
   ]
  },
  {
   "cell_type": "code",
   "execution_count": 6,
   "metadata": {
    "collapsed": false,
    "scrolled": false
   },
   "outputs": [
    {
     "name": "stdout",
     "output_type": "stream",
     "text": [
      "Downloading 201501\n",
      "file in place, you can continue\n",
      "Index(['tripduration', 'starttime', 'stoptime', 'start station id',\n",
      "       'start station name', 'start station latitude',\n",
      "       'start station longitude', 'end station id', 'end station name',\n",
      "       'end station latitude', 'end station longitude', 'bikeid', 'usertype',\n",
      "       'birth year', 'gender'],\n",
      "      dtype='object')\n",
      "Downloading 201506\n",
      "file in place, you can continue\n",
      "Index(['tripduration', 'starttime', 'stoptime', 'start station id',\n",
      "       'start station name', 'start station latitude',\n",
      "       'start station longitude', 'end station id', 'end station name',\n",
      "       'end station latitude', 'end station longitude', 'bikeid', 'usertype',\n",
      "       'birth year', 'gender'],\n",
      "      dtype='object')\n"
     ]
    }
   ],
   "source": [
    "datestring = '201501'\n",
    "getCitiBikeCSV(datestring)\n",
    "df_W = pd.read_csv(os.getenv('PUIDATA')+'/' + datestring + '-citibike-tripdata.csv')\n",
    "print (df_W.columns)\n",
    "datestring = '201506'\n",
    "getCitiBikeCSV(datestring)\n",
    "df_S = pd.read_csv(os.getenv ('PUIDATA')+'/' + datestring + '-citibike-tripdata.csv')\n",
    "print (df_W.columns)\n"
   ]
  },
  {
   "cell_type": "markdown",
   "metadata": {},
   "source": [
    "## get the age (subscribers only since otherwise the ages are really sparse anyways)\n"
   ]
  },
  {
   "cell_type": "code",
   "execution_count": 7,
   "metadata": {
    "collapsed": false
   },
   "outputs": [
    {
     "name": "stdout",
     "output_type": "stream",
     "text": [
      "2015\n"
     ]
    }
   ],
   "source": [
    "#you could hardcode the year\n",
    "#year = 2016\n",
    "\n",
    "#or you could get the current year (from the datetime package for example)\n",
    "#so that your notebook gets the current age of riders whenever you run it\n",
    "#import datetime\n",
    "#thisyear = datetime.date.today().year\n",
    "\n",
    "#but really you want the age of rider when they were riding:\n",
    "year = int(datestring[:4])\n",
    "print (year)"
   ]
  },
  {
   "cell_type": "code",
   "execution_count": 8,
   "metadata": {
    "collapsed": false
   },
   "outputs": [],
   "source": [
    "#df is the dataframe where the content of the csv file is stored\n",
    "df_W['age'] = year - df_W['birth year'][(df_W['usertype'] == 'Subscriber')]\n",
    "df_S['age'] = year - df_S['birth year'][(df_S['usertype'] == 'Subscriber')]"
   ]
  },
  {
   "cell_type": "code",
   "execution_count": 9,
   "metadata": {
    "collapsed": false
   },
   "outputs": [
    {
     "data": {
      "text/plain": [
       "(0    55\n",
       " 1    52\n",
       " 2    41\n",
       " 3    46\n",
       " 4    38\n",
       " 5    46\n",
       " 6    43\n",
       " 7    30\n",
       " 8    24\n",
       " 9    24\n",
       " Name: age, dtype: float64, 0    31\n",
       " 1    18\n",
       " 2    22\n",
       " 3    34\n",
       " 4   NaN\n",
       " 5    39\n",
       " 6    39\n",
       " 7    53\n",
       " 8    42\n",
       " 9    57\n",
       " Name: age, dtype: float64)"
      ]
     },
     "execution_count": 9,
     "metadata": {},
     "output_type": "execute_result"
    }
   ],
   "source": [
    "df_W.age[:10], df_S.age[:10]"
   ]
  },
  {
   "cell_type": "markdown",
   "metadata": {},
   "source": [
    "### drop not-needed stuff, which is EVERYTHING but the newly created age, and concatenate the the dataframes (but I keep long and lat for extra credit)"
   ]
  },
  {
   "cell_type": "code",
   "execution_count": 10,
   "metadata": {
    "collapsed": false
   },
   "outputs": [],
   "source": [
    "df_W.drop(['tripduration', 'starttime', 'stoptime', 'start station id',\n",
    "       'start station name','end station id', 'end station name',\n",
    "       'end station latitude', 'end station longitude', 'bikeid', 'usertype',\n",
    "       'birth year', 'gender'], axis=1, inplace=True)\n",
    "df_W.dropna(inplace = True)\n",
    "\n",
    "df_S.drop(['tripduration', 'starttime', 'stoptime', 'start station id',\n",
    "       'start station name', 'end station id', 'end station name',\n",
    "       'end station latitude', 'end station longitude', 'bikeid', 'usertype',\n",
    "       'birth year', 'gender'], axis=1, inplace=True)\n",
    "df_S.dropna(inplace = True)"
   ]
  },
  {
   "cell_type": "code",
   "execution_count": 11,
   "metadata": {
    "collapsed": false
   },
   "outputs": [
    {
     "data": {
      "text/plain": [
       "(   start station latitude  start station longitude  age\n",
       " 0               40.750020               -73.969053   55\n",
       " 1               40.743174               -74.003664   52\n",
       " 2               40.740964               -73.986022   41\n",
       " 3               40.683178               -73.965964   46\n",
       " 4               40.745168               -73.986831   38,\n",
       "    start station latitude  start station longitude  age\n",
       " 0               40.727103               -74.002971   31\n",
       " 1               40.727791               -73.985649   18\n",
       " 2               40.735238               -74.000271   22\n",
       " 3               40.716059               -73.991908   34\n",
       " 5               40.739017               -74.002638   39)"
      ]
     },
     "execution_count": 11,
     "metadata": {},
     "output_type": "execute_result"
    }
   ],
   "source": [
    "df_W.head(), df_S.head()"
   ]
  },
  {
   "cell_type": "code",
   "execution_count": 12,
   "metadata": {
    "collapsed": false
   },
   "outputs": [
    {
     "name": "stdout",
     "output_type": "stream",
     "text": [
      "size of original DFs summed 1090751 size of final DF 1090751\n"
     ]
    },
    {
     "data": {
      "text/html": [
       "<div>\n",
       "<table border=\"1\" class=\"dataframe\">\n",
       "  <thead>\n",
       "    <tr style=\"text-align: right;\">\n",
       "      <th></th>\n",
       "      <th>age</th>\n",
       "    </tr>\n",
       "  </thead>\n",
       "  <tbody>\n",
       "    <tr>\n",
       "      <th>0</th>\n",
       "      <td>55</td>\n",
       "    </tr>\n",
       "    <tr>\n",
       "      <th>1</th>\n",
       "      <td>52</td>\n",
       "    </tr>\n",
       "    <tr>\n",
       "      <th>2</th>\n",
       "      <td>41</td>\n",
       "    </tr>\n",
       "    <tr>\n",
       "      <th>3</th>\n",
       "      <td>46</td>\n",
       "    </tr>\n",
       "    <tr>\n",
       "      <th>4</th>\n",
       "      <td>38</td>\n",
       "    </tr>\n",
       "  </tbody>\n",
       "</table>\n",
       "</div>"
      ],
      "text/plain": [
       "   age\n",
       "0   55\n",
       "1   52\n",
       "2   41\n",
       "3   46\n",
       "4   38"
      ]
     },
     "execution_count": 12,
     "metadata": {},
     "output_type": "execute_result"
    }
   ],
   "source": [
    "cbages = pd.concat([df_W.drop(['start station latitude',\n",
    "       'start station longitude'], axis=1), df_S.drop(['start station latitude',\n",
    "       'start station longitude'], axis=1)])\n",
    "\n",
    "print (\"size of original DFs summed\", len(df_W) + len(df_S), \n",
    "       \"size of final DF\", len(cbages))\n",
    "cbages.head()"
   ]
  },
  {
   "cell_type": "code",
   "execution_count": 13,
   "metadata": {
    "collapsed": false
   },
   "outputs": [
    {
     "data": {
      "text/plain": [
       "<matplotlib.axes._subplots.AxesSubplot at 0x118e23ac8>"
      ]
     },
     "execution_count": 13,
     "metadata": {},
     "output_type": "execute_result"
    },
    {
     "data": {
      "image/png": "[encoded data removed]",
      "text/plain": [
       "<matplotlib.figure.Figure at 0x118e23c88>"
      ]
     },
     "metadata": {},
     "output_type": "display_data"
    }
   ],
   "source": [
    "bins = np.arange(10, 99, 10)\n",
    "cbages.age.groupby(pd.cut(cbages.age, bins)).\\\n",
    "            agg([count_nonzero]).plot(kind='bar', title=\"Winter\")"
   ]
  },
  {
   "cell_type": "markdown",
   "metadata": {},
   "source": [
    "### Figure 1: distribution of riders ages for 2 months (January and June) in 2015. Ages are split in 10 bins of 10 years each. Notice that the minmum riding age is 16 yo, thus with this binning the first bin is artificially low. The distribution looks manifestly asymmetric (with a long tail at the old age side and with peak between 30 and 40 years of age) indicating that a Gaussian is probably not a very good model. "
   ]
  },
  {
   "cell_type": "markdown",
   "metadata": {},
   "source": [
    "# Test of the Gaussian model with KS test\n",
    "### scipy documentation for KS tests for goodness of fit\n",
    "http://docs.scipy.org/doc/scipy/reference/generated/scipy.stats.kstest.html"
   ]
  },
  {
   "cell_type": "code",
   "execution_count": 14,
   "metadata": {
    "collapsed": false
   },
   "outputs": [
    {
     "name": "stdout",
     "output_type": "stream",
     "text": [
      "data size: 1090751\n"
     ]
    }
   ],
   "source": [
    "print (\"data size:\", len(cbages))\n",
    "# NOTICE: the data is >1000000 rows! if I just run it through a ks test \n",
    "# I stand a good chance to \n",
    "# crash my laptop\n",
    "nuse = 500"
   ]
  },
  {
   "cell_type": "code",
   "execution_count": 15,
   "metadata": {
    "collapsed": false
   },
   "outputs": [
    {
     "data": {
      "text/plain": [
       "KstestResult(statistic=0.99950849330238911, pvalue=0.0)"
      ]
     },
     "execution_count": 15,
     "metadata": {},
     "output_type": "execute_result"
    },
    {
     "data": {
      "image/png": "[encoded data removed]",
      "text/plain": [
       "<matplotlib.figure.Figure at 0x126a7bba8>"
      ]
     },
     "metadata": {},
     "output_type": "display_data"
    }
   ],
   "source": [
    "#compare to normal\n",
    "# NOTICE: I pass the UNBINNED data, and I set the mean for norm, \n",
    "# otherwise the test will \n",
    "# not test the SHAPE \n",
    "# of the distribution but whether the mean is consistent ith the standard \n",
    "# normal mean which is 0\n",
    "# but I do not need ALL the data: I can just pick a subset\n",
    "\n",
    "ksAge = scipy.stats.kstest(cbages[::nuse], 'norm', args=(cbages.mean(), \n",
    "                                                        cbages.std()))\n",
    "\n",
    "pl.hist((cbages[::nuse].values), cumulative=True, normed=True)\n",
    "pl.plot(np.arange(0,80), scipy.stats.norm.cdf(np.arange(0,80), \n",
    "                                              loc=cbages.mean(),\n",
    "                                              scale=cbages.std()))\n",
    "\n",
    "ksAge"
   ]
  },
  {
   "cell_type": "markdown",
   "metadata": {},
   "source": [
    "Figure 1: cumulative distribution functions for citibike age data and Gaussian distribution with same mean and standard deviation as the data. \n",
    "The KS test measures the distance in this space"
   ]
  },
  {
   "cell_type": "code",
   "execution_count": 16,
   "metadata": {
    "collapsed": false
   },
   "outputs": [
    {
     "data": {
      "text/plain": [
       "KstestResult(statistic=0.99950849330238911, pvalue=0.0)"
      ]
     },
     "execution_count": 16,
     "metadata": {},
     "output_type": "execute_result"
    }
   ],
   "source": [
    "#alternatively I can preprocess the data to make it mean 0 and standard deviation 1\n",
    "ksAge = scipy.stats.kstest((cbages[::nuse] - cbages.mean()) /\\\n",
    "                           cbages.std(), \n",
    "                           'norm')\n",
    "ksAge\n"
   ]
  },
  {
   "cell_type": "markdown",
   "metadata": {},
   "source": [
    "### The Null that the data comes from a Gaussian distribution is rejected at alpha = 0.01 (p-value <0.01)"
   ]
  },
  {
   "cell_type": "markdown",
   "metadata": {},
   "source": [
    "# Test of the Poisson model with KS test\n"
   ]
  },
  {
   "cell_type": "code",
   "execution_count": 17,
   "metadata": {
    "collapsed": false
   },
   "outputs": [
    {
     "data": {
      "text/plain": [
       "KstestResult(statistic=0.99999997263775331, pvalue=0.0)"
      ]
     },
     "execution_count": 17,
     "metadata": {},
     "output_type": "execute_result"
    },
    {
     "data": {
      "image/png": "[encoded data removed]",
      "text/plain": [
       "<matplotlib.figure.Figure at 0x12548cc88>"
      ]
     },
     "metadata": {},
     "output_type": "display_data"
    }
   ],
   "source": [
    "ksAgePois = scipy.stats.kstest(cbages[::nuse], 'poisson', args=(cbages.mean()))\n",
    "\n",
    "pl.hist((cbages[::nuse].values), cumulative=True, normed=True)\n",
    "pl.plot(np.arange(0,80), scipy.stats.poisson.cdf(np.arange(0,80), \n",
    "                                              mu=cbages.mean()))\n",
    "ksAgePois\n"
   ]
  },
  {
   "cell_type": "markdown",
   "metadata": {},
   "source": [
    "Figure 3: cumulative distribution functions for citibike age data and Poisson distribution with same mean as the data. \n",
    "The KS test measures the distance in this space. The cumulative distribution is more dissimilar than it was for the gaussian distribution, as the standard deviation is controlled by the mean, and it is too narrow to describe the data. This is reflected in a higher KS statistics. "
   ]
  },
  {
   "cell_type": "markdown",
   "metadata": {},
   "source": [
    "### The data is not consistent with a Poisson distribution with mean ~39 at alpha = 0.01"
   ]
  },
  {
   "cell_type": "markdown",
   "metadata": {},
   "source": [
    "# Test of the Gumbel model with KS test"
   ]
  },
  {
   "cell_type": "code",
   "execution_count": 18,
   "metadata": {
    "collapsed": false,
    "scrolled": false
   },
   "outputs": [
    {
     "data": {
      "text/plain": [
       "KstestResult(statistic=0.98895248050379514, pvalue=0.0)"
      ]
     },
     "execution_count": 18,
     "metadata": {},
     "output_type": "execute_result"
    },
    {
     "data": {
      "image/png": "[encoded data removed]",
      "text/plain": [
       "<matplotlib.figure.Figure at 0x1254abda0>"
      ]
     },
     "metadata": {},
     "output_type": "display_data"
    }
   ],
   "source": [
    "scale = 10\n",
    "loc = 32\n",
    "ksgumbel = scipy.stats.kstest(cbages[::nuse], 'gumbel_r', \n",
    "                               args=(loc, scale))\n",
    "\n",
    "pl.hist((cbages[::nuse].values), cumulative=True, normed=True)\n",
    "\n",
    "\n",
    "pl.plot(np.arange(0,80), scipy.stats.gumbel_r.cdf(np.arange(0,80), \n",
    "                                                  loc=loc,\n",
    "                                                  scale=scale))\n",
    "                                                   # a = a, \n",
    "                                                   # c = c, loc=l, scale=s))\n",
    "\n",
    "ksgumbel"
   ]
  },
  {
   "cell_type": "markdown",
   "metadata": {},
   "source": [
    "Figure 3: As in Figure 1 and 2 for the gumbel right skewed distribution. Even with a distribution that by eye looks like it fairly overlaps the data, a KS test finds an extremely  low probability that the distribution of bikers' ages comes from the analytical gumbel distribution. The complexity of true data makes it hard to model with a simple function."
   ]
  },
  {
   "cell_type": "markdown",
   "metadata": {},
   "source": [
    "### A Gumbel distribution (right skewed) is not consistent with being the distribution that generates the citibike age data at $\\alpha$=0.01. "
   ]
  },
  {
   "cell_type": "markdown",
   "metadata": {},
   "source": [
    "# Test of the Gaussian model with AD test\n",
    "### scipy documentation for AD tests for goodness of fit\n",
    "http://docs.scipy.org/doc/scipy/reference/generated/scipy.stats.anderson.html\n",
    "\n",
    "http://docs.scipy.org/doc/scipy-0.7.x/reference/generated/scipy.stats.anderson.html#scipy.stats.anderson\n",
    "\n",
    "(notice that the first reference, which is more detailed, uses the notation A2 which is only defined in the second reference)"
   ]
  },
  {
   "cell_type": "code",
   "execution_count": 19,
   "metadata": {
    "collapsed": false
   },
   "outputs": [
    {
     "data": {
      "text/plain": [
       "AndersonResult(statistic=30.742883101516782, critical_values=array([ 0.575,  0.655,  0.786,  0.916,  1.09 ]), significance_level=array([ 15. ,  10. ,   5. ,   2.5,   1. ]))"
      ]
     },
     "execution_count": 19,
     "metadata": {},
     "output_type": "execute_result"
    }
   ],
   "source": [
    "#AD wants a 1 dimensional array and cannot deal with dataframes\n",
    "adAge = scipy.stats.anderson(cbages[::nuse].values.flatten(), dist = 'norm')\n",
    "adAge\n"
   ]
  },
  {
   "cell_type": "markdown",
   "metadata": {},
   "source": [
    "### The AD statistics is larger than the critical value for $\\alpha$ = 0.01 (1.084) hence the null hypothesis that the data come from the normal distribution can be rejected."
   ]
  },
  {
   "cell_type": "markdown",
   "metadata": {},
   "source": [
    "## Test of Gumbel with AD test"
   ]
  },
  {
   "cell_type": "code",
   "execution_count": 20,
   "metadata": {
    "collapsed": false
   },
   "outputs": [
    {
     "data": {
      "text/plain": [
       "AndersonResult(statistic=68.179816131937514, critical_values=array([ 0.472,  0.634,  0.754,  0.873,  1.034]), significance_level=array([ 25. ,  10. ,   5. ,   2.5,   1. ]))"
      ]
     },
     "execution_count": 20,
     "metadata": {},
     "output_type": "execute_result"
    }
   ],
   "source": [
    "scipy.stats.anderson(cbages[::nuse].values.flatten(), dist = 'gumbel')"
   ]
  },
  {
   "cell_type": "markdown",
   "metadata": {},
   "source": [
    "# Test of the Gaussian Poisson and Gumbel model with KL divergence test\n",
    "### scipy documentation for KL tests for goodness of fit\n",
    "http://docs.scipy.org/doc/scipy/reference/generated/scipy.stats.entropy.html"
   ]
  },
  {
   "cell_type": "code",
   "execution_count": 21,
   "metadata": {
    "collapsed": false
   },
   "outputs": [
    {
     "name": "stdout",
     "output_type": "stream",
     "text": [
      "entropy: Normal 0.067, Poisson 0.584, Gumbel 0.058\n"
     ]
    },
    {
     "data": {
      "image/png": "[encoded data removed]",
      "text/plain": [
       "<matplotlib.figure.Figure at 0x123c77b70>"
      ]
     },
     "metadata": {},
     "output_type": "display_data"
    }
   ],
   "source": [
    "## for KL divergence I have to pass two \n",
    "#\"possibly unnormalized distributions\" \n",
    "## i.e. I will use my binned data, and generate \n",
    "#a binned normal distribution with same bins\n",
    "\n",
    "#get the bin centers where you need to calculate \n",
    "#the normal probability distribubtion\n",
    "bins = np.arange(15,80,2)\n",
    "binnedAges = cbages.age.groupby(pd.cut(cbages.age, bins)).agg([count_nonzero])\n",
    "binnedAges\n",
    "\n",
    "bincenters = bins[:-1] + (bins[1] - bins[0])\n",
    "#get the normal pdf at the bin centers\n",
    "normdist = scipy.stats.norm.pdf(bincenters, loc=cbages.mean(), \n",
    "                                scale=cbages.std())\n",
    "#get the poisson pdf at the bin centers\n",
    "poissondist = scipy.stats.poisson.pmf(bincenters, cbages.mean())\n",
    "\n",
    "#get the gumbel_r pdf at the bin centers\n",
    "\n",
    "gumbeldist = scipy.stats.gumbel_r.pdf(bincenters, loc=loc, \n",
    "                                scale=scale)\n",
    "h,b,p = pl.hist(cbages[::nuse].values.flatten(), bins=bins, normed=True)\n",
    "pl.plot(bincenters, normdist, label='Normal')\n",
    "pl.plot(bincenters, poissondist, label='Poisson')\n",
    "pl.plot(bincenters, gumbeldist, label='Gumbel')\n",
    "pl.legend()\n",
    "\n",
    "#make sure you pass a 1D array of binned ages, not an indexed series, \n",
    "#or an array of N 1D arrays\n",
    "klAgeNorm = scipy.stats.entropy(binnedAges.values.flatten(), normdist)\n",
    "klAgePoisson = scipy.stats.entropy(binnedAges.values.flatten(), poissondist)\n",
    "klAgeGumbel = scipy.stats.entropy(binnedAges.values.flatten(), gumbeldist)\n",
    "print (\"entropy: Normal {0:.3f}, Poisson {1:.3f}, Gumbel {2:.3f}\".\\\n",
    "       format(klAgeNorm, klAgePoisson, klAgeGumbel))\n"
   ]
  },
  {
   "cell_type": "markdown",
   "metadata": {},
   "source": [
    "Figure 4: PDF of the data (histogram of age of citibike riders) and of a Normal distribution with same mean and standard deviation as the data, Poisson with same mean as the data, and Gumbel with appropriately chosen (by visual inspection) location and scale parameter."
   ]
  },
  {
   "cell_type": "markdown",
   "metadata": {},
   "source": [
    "### The KL divergence test shows entropy, i.e. the distributions are not identical\n",
    "### no p-value can be associated to the entropy,  but we can compare this result to the entropy obtained for the two distributions to see which is the better model: \n",
    "### The model with lower entropy is better (identical distributions have 0 entropy, or 0 information loss in describin one with the other). The Poisson distribution is by far the worst. The Gumbel_r model is superior to the Normal model.\n"
   ]
  },
  {
   "cell_type": "markdown",
   "metadata": {},
   "source": [
    "or i can create my function separately, then call it: all i need to do is define a function that calls  like i am doing below. the size argument must come first, and the second argument of kstest will no longer be a string, but the function itself (what we would call a \"callable\")"
   ]
  },
  {
   "cell_type": "code",
   "execution_count": 22,
   "metadata": {
    "collapsed": false
   },
   "outputs": [
    {
     "data": {
      "image/png": "[encoded data removed]",
      "text/plain": [
       "<matplotlib.figure.Figure at 0x123c5cef0>"
      ]
     },
     "metadata": {},
     "output_type": "display_data"
    }
   ],
   "source": [
    "def mydistribution(x, mu1, mu2, s1, s2):\n",
    "    #this is a crazy dumb function, but i am trying to make a point here...\n",
    "    dist = (scipy.stats.norm.pdf(x, loc=mu1, scale=s1) + \n",
    "            scipy.stats.norm.pdf(x, loc=mu2, scale=s2)) \n",
    "    return dist / dist.sum()\n",
    "\n",
    "h,b,p = pl.hist(cbages[::nuse].values.flatten(), bins=bins, normed=True)\n",
    "plot(np.arange(80), mydistribution(np.arange(80), 30, 47, 5, 10))\n",
    "doubleGauss = mydistribution(np.arange(80), 30, 47, 5, 10)"
   ]
  },
  {
   "cell_type": "markdown",
   "metadata": {},
   "source": [
    "Figure 5: A sum of gaussian with parameters optimized by eye, overlapped on the citibike age data histogram."
   ]
  },
  {
   "cell_type": "code",
   "execution_count": 23,
   "metadata": {
    "collapsed": false
   },
   "outputs": [
    {
     "data": {
      "text/plain": [
       "0.011835734568128508"
      ]
     },
     "execution_count": 23,
     "metadata": {},
     "output_type": "execute_result"
    }
   ],
   "source": [
    "klAgeMyDistrib = scipy.stats.entropy(binnedAges.values.flatten(), \n",
    "                                    mydistribution(bincenters, 30, 47, 5, 10))\n",
    "klAgeMyDistrib\n"
   ]
  },
  {
   "cell_type": "markdown",
   "metadata": {},
   "source": [
    "the KL divergence indicates this is the best among the tested models"
   ]
  },
  {
   "cell_type": "code",
   "execution_count": 24,
   "metadata": {
    "collapsed": false
   },
   "outputs": [
    {
     "data": {
      "text/plain": [
       "KstestResult(statistic=0.0090649260990975922, pvalue=0.99391738198235779)"
      ]
     },
     "execution_count": 24,
     "metadata": {},
     "output_type": "execute_result"
    }
   ],
   "source": [
    "def mydistributionCDF(x, mu1, mu2, s1, s2):\n",
    "    return mydistribution(x, 30, 47, 5, 10).cumsum()\n",
    "\n",
    "ksAgeMyDistrib = scipy.stats.kstest(cbages[::nuse], mydistributionCDF,\n",
    "                                    args = (30, 47, 5, 10))\n",
    "ksAgeMyDistrib"
   ]
  },
  {
   "cell_type": "markdown",
   "metadata": {},
   "source": [
    "This distribution is still rejected at the alpha = 0.01, though it is an improvement over the other distributions."
   ]
  },
  {
   "cell_type": "code",
   "execution_count": 25,
   "metadata": {
    "collapsed": false,
    "scrolled": false
   },
   "outputs": [
    {
     "name": "stderr",
     "output_type": "stream",
     "text": [
      "//anaconda/lib/python3.5/site-packages/pandas/computation/expressions.py:190: UserWarning: evaluating in Python space because the '*' operator is not supported by numexpr for the bool dtype, use '&' instead\n",
      "  unsupported[op_str]))\n",
      "//anaconda/lib/python3.5/site-packages/pandas/core/internals.py:4417: FutureWarning: elementwise comparison failed; returning scalar instead, but in the future will perform elementwise comparison\n",
      "  comp = (nn == nn_at)\n",
      "//anaconda/lib/python3.5/site-packages/ipykernel/__main__.py:19: SettingWithCopyWarning: \n",
      "A value is trying to be set on a copy of a slice from a DataFrame\n",
      "\n",
      "See the caveats in the documentation: http://pandas.pydata.org/pandas-docs/stable/indexing.html#indexing-view-versus-copy\n"
     ]
    },
    {
     "data": {
      "text/html": [
       "<div>\n",
       "<table border=\"1\" class=\"dataframe\">\n",
       "  <thead>\n",
       "    <tr style=\"text-align: right;\">\n",
       "      <th></th>\n",
       "      <th>start station latitude</th>\n",
       "      <th>start station longitude</th>\n",
       "      <th>age</th>\n",
       "      <th>zipcodes</th>\n",
       "    </tr>\n",
       "  </thead>\n",
       "  <tbody>\n",
       "    <tr>\n",
       "      <th>0</th>\n",
       "      <td>40.750020</td>\n",
       "      <td>-73.969053</td>\n",
       "      <td>55</td>\n",
       "      <td>10017</td>\n",
       "    </tr>\n",
       "    <tr>\n",
       "      <th>1</th>\n",
       "      <td>40.743174</td>\n",
       "      <td>-74.003664</td>\n",
       "      <td>52</td>\n",
       "      <td>10011</td>\n",
       "    </tr>\n",
       "    <tr>\n",
       "      <th>2</th>\n",
       "      <td>40.740964</td>\n",
       "      <td>-73.986022</td>\n",
       "      <td>41</td>\n",
       "      <td>10010</td>\n",
       "    </tr>\n",
       "    <tr>\n",
       "      <th>3</th>\n",
       "      <td>40.683178</td>\n",
       "      <td>-73.965964</td>\n",
       "      <td>46</td>\n",
       "      <td>2702</td>\n",
       "    </tr>\n",
       "    <tr>\n",
       "      <th>4</th>\n",
       "      <td>40.745168</td>\n",
       "      <td>-73.986831</td>\n",
       "      <td>38</td>\n",
       "      <td>10016</td>\n",
       "    </tr>\n",
       "  </tbody>\n",
       "</table>\n",
       "</div>"
      ],
      "text/plain": [
       "   start station latitude  start station longitude  age zipcodes\n",
       "0               40.750020               -73.969053   55    10017\n",
       "1               40.743174               -74.003664   52    10011\n",
       "2               40.740964               -73.986022   41    10010\n",
       "3               40.683178               -73.965964   46     2702\n",
       "4               40.745168               -73.986831   38    10016"
      ]
     },
     "execution_count": 25,
     "metadata": {},
     "output_type": "execute_result"
    }
   ],
   "source": [
    "\n",
    "agelonglat = pd.concat([df_W, df_S])\n",
    "\n",
    "a = (agelonglat[['start station latitude', \n",
    "                'start station longitude']].values.astype(float))\n",
    "len(a)\n",
    "zipcodesDF = pd.DataFrame()\n",
    "\n",
    "agelonglat['zipcodes'] = np.zeros(len(agelonglat))\n",
    "for latlon in pd.DataFrame(a).drop_duplicates().values:\n",
    "    url = (\"https://maps.googleapis.com/maps/api/geocode/json?latlng=\" +\n",
    "           \"%f,%f&key=%s\"%(\n",
    "            latlon[0], latlon[1], os.getenv('GOOGLEAPI')))\n",
    "    #print (latlon, url)\n",
    "    #print (get_jsonparsed_data(url))\n",
    "    revgeo = get_jsonparsed_data(url)[\"results\"][0]['address_components'][-1]\n",
    "    #print (revgeo)\n",
    "    agelonglat['zipcodes'][(agelonglat['start station latitude'] == latlon[0]) * \n",
    "           (agelonglat['start station longitude'] == latlon[1])] = revgeo['long_name']\n",
    "agelonglat.head()"
   ]
  },
  {
   "cell_type": "code",
   "execution_count": 26,
   "metadata": {
    "collapsed": false
   },
   "outputs": [
    {
     "name": "stderr",
     "output_type": "stream",
     "text": [
      "//anaconda/lib/python3.5/site-packages/ipykernel/__main__.py:3: SettingWithCopyWarning: \n",
      "A value is trying to be set on a copy of a slice from a DataFrame\n",
      "\n",
      "See the caveats in the documentation: http://pandas.pydata.org/pandas-docs/stable/indexing.html#indexing-view-versus-copy\n",
      "  app.launch_new_instance()\n",
      "//anaconda/lib/python3.5/site-packages/ipykernel/__main__.py:4: SettingWithCopyWarning: \n",
      "A value is trying to be set on a copy of a slice from a DataFrame\n",
      "\n",
      "See the caveats in the documentation: http://pandas.pydata.org/pandas-docs/stable/indexing.html#indexing-view-versus-copy\n"
     ]
    },
    {
     "name": "stdout",
     "output_type": "stream",
     "text": [
      "size uptown dataset 172951\n"
     ]
    },
    {
     "data": {
      "text/html": [
       "<div>\n",
       "<table border=\"1\" class=\"dataframe\">\n",
       "  <thead>\n",
       "    <tr style=\"text-align: right;\">\n",
       "      <th></th>\n",
       "      <th>age</th>\n",
       "    </tr>\n",
       "  </thead>\n",
       "  <tbody>\n",
       "    <tr>\n",
       "      <th>11</th>\n",
       "      <td>35</td>\n",
       "    </tr>\n",
       "    <tr>\n",
       "      <th>23</th>\n",
       "      <td>27</td>\n",
       "    </tr>\n",
       "    <tr>\n",
       "      <th>29</th>\n",
       "      <td>29</td>\n",
       "    </tr>\n",
       "    <tr>\n",
       "      <th>37</th>\n",
       "      <td>51</td>\n",
       "    </tr>\n",
       "    <tr>\n",
       "      <th>46</th>\n",
       "      <td>47</td>\n",
       "    </tr>\n",
       "  </tbody>\n",
       "</table>\n",
       "</div>"
      ],
      "text/plain": [
       "    age\n",
       "11   35\n",
       "23   27\n",
       "29   29\n",
       "37   51\n",
       "46   47"
      ]
     },
     "execution_count": 26,
     "metadata": {},
     "output_type": "execute_result"
    }
   ],
   "source": [
    "uptown = agelonglat[agelonglat.zipcodes.astype(int) >= 10020]\n",
    "uptown.drop(['start station latitude', 'start station longitude',\n",
    "             'zipcodes'], axis=1, inplace=True)\n",
    "uptown.dropna(inplace=True)\n",
    "print (\"size uptown dataset\", len(uptown))\n",
    "\n",
    "uptown.head()"
   ]
  },
  {
   "cell_type": "code",
   "execution_count": 27,
   "metadata": {
    "collapsed": false
   },
   "outputs": [
    {
     "name": "stderr",
     "output_type": "stream",
     "text": [
      "//anaconda/lib/python3.5/site-packages/pandas/computation/expressions.py:190: UserWarning: evaluating in Python space because the '*' operator is not supported by numexpr for the bool dtype, use '&' instead\n",
      "  unsupported[op_str]))\n",
      "//anaconda/lib/python3.5/site-packages/ipykernel/__main__.py:3: SettingWithCopyWarning: \n",
      "A value is trying to be set on a copy of a slice from a DataFrame\n",
      "\n",
      "See the caveats in the documentation: http://pandas.pydata.org/pandas-docs/stable/indexing.html#indexing-view-versus-copy\n",
      "  app.launch_new_instance()\n"
     ]
    },
    {
     "name": "stdout",
     "output_type": "stream",
     "text": [
      "size downtown dataset 681921  size ratio up/down 0.25\n"
     ]
    },
    {
     "name": "stderr",
     "output_type": "stream",
     "text": [
      "//anaconda/lib/python3.5/site-packages/ipykernel/__main__.py:4: SettingWithCopyWarning: \n",
      "A value is trying to be set on a copy of a slice from a DataFrame\n",
      "\n",
      "See the caveats in the documentation: http://pandas.pydata.org/pandas-docs/stable/indexing.html#indexing-view-versus-copy\n"
     ]
    },
    {
     "data": {
      "text/html": [
       "<div>\n",
       "<table border=\"1\" class=\"dataframe\">\n",
       "  <thead>\n",
       "    <tr style=\"text-align: right;\">\n",
       "      <th></th>\n",
       "      <th>age</th>\n",
       "    </tr>\n",
       "  </thead>\n",
       "  <tbody>\n",
       "    <tr>\n",
       "      <th>0</th>\n",
       "      <td>55</td>\n",
       "    </tr>\n",
       "    <tr>\n",
       "      <th>1</th>\n",
       "      <td>52</td>\n",
       "    </tr>\n",
       "    <tr>\n",
       "      <th>2</th>\n",
       "      <td>41</td>\n",
       "    </tr>\n",
       "    <tr>\n",
       "      <th>4</th>\n",
       "      <td>38</td>\n",
       "    </tr>\n",
       "    <tr>\n",
       "      <th>5</th>\n",
       "      <td>46</td>\n",
       "    </tr>\n",
       "  </tbody>\n",
       "</table>\n",
       "</div>"
      ],
      "text/plain": [
       "   age\n",
       "0   55\n",
       "1   52\n",
       "2   41\n",
       "4   38\n",
       "5   46"
      ]
     },
     "execution_count": 27,
     "metadata": {},
     "output_type": "execute_result"
    }
   ],
   "source": [
    "downtown = agelonglat[(agelonglat.zipcodes.astype(int) < 10020) * \\\n",
    "                     (agelonglat.zipcodes.astype(int) >= 10000)]\n",
    "downtown.drop(['start station latitude', 'start station longitude',\n",
    "             'zipcodes'], axis=1, inplace=True)\n",
    "downtown.dropna(inplace=True)\n",
    "print (\"size downtown dataset\", len(downtown), \n",
    "       \" size ratio up/down %.2f\"%(len(uptown)/len(downtown)))\n",
    "downtown.head()"
   ]
  },
  {
   "cell_type": "code",
   "execution_count": 28,
   "metadata": {
    "collapsed": false
   },
   "outputs": [
    {
     "data": {
      "text/plain": [
       "<matplotlib.legend.Legend at 0x11c188748>"
      ]
     },
     "execution_count": 28,
     "metadata": {},
     "output_type": "execute_result"
    },
    {
     "data": {
      "image/png": "[encoded data removed]",
      "text/plain": [
       "<matplotlib.figure.Figure at 0x122e73ef0>"
      ]
     },
     "metadata": {},
     "output_type": "display_data"
    }
   ],
   "source": [
    "h,b,p = pl.hist(uptown[::100].values.flatten(), bins=bins, normed=True, label=\"uptown\")\n",
    "h,b,p = pl.hist(downtown[::25].values.flatten(), bins=bins, normed=True, \n",
    "                label=\"downtown\", alpha=0.5)\n",
    "pl.plot(bincenters, normdist, label='Normal')\n",
    "pl.plot(bincenters, poissondist, label='Poisson')\n",
    "pl.plot(bincenters, gumbeldist, label='Gumbel')\n",
    "pl.legend()"
   ]
  },
  {
   "cell_type": "code",
   "execution_count": 29,
   "metadata": {
    "collapsed": false
   },
   "outputs": [
    {
     "data": {
      "text/plain": [
       "Ks_2sampResult(statistic=0.058420941118727421, pvalue=0.083311220012481743)"
      ]
     },
     "execution_count": 29,
     "metadata": {},
     "output_type": "execute_result"
    }
   ],
   "source": [
    "scipy.stats.ks_2samp(uptown[::300].values.flatten(), \n",
    "                     downtown[::300].values.flatten())"
   ]
  },
  {
   "cell_type": "markdown",
   "metadata": {},
   "source": [
    "The uptown and downtown age distributions are consistent with each other to $\\alpha$=0.01 if we use a 1/200th of the distribution. "
   ]
  },
  {
   "cell_type": "code",
   "execution_count": 30,
   "metadata": {
    "collapsed": false
   },
   "outputs": [
    {
     "data": {
      "text/plain": [
       "Ks_2sampResult(statistic=0.047438835802112167, pvalue=2.8362306365897637e-270)"
      ]
     },
     "execution_count": 30,
     "metadata": {},
     "output_type": "execute_result"
    }
   ],
   "source": [
    "scipy.stats.ks_2samp(uptown[::].values.flatten(), \n",
    "                     downtown[::].values.flatten())"
   ]
  },
  {
   "cell_type": "markdown",
   "metadata": {},
   "source": [
    "Though when using the entire distribution, as we had seen for the ages of males and femails, he uptown and downtown age distributions are not consistent  with each other to a high level of confidence."
   ]
  },
  {
   "cell_type": "code",
   "execution_count": 31,
   "metadata": {
    "collapsed": false
   },
   "outputs": [],
   "source": [
    "klUpDown = scipy.stats.entropy(uptown[::100].values.flatten(), \n",
    "                    np.random.choice(downtown.values.flatten(), \n",
    "                            len(uptown[::100]), replace=False))"
   ]
  },
  {
   "cell_type": "code",
   "execution_count": 32,
   "metadata": {
    "collapsed": false
   },
   "outputs": [],
   "source": [
    "bins = np.arange(15,80,2)\n",
    "bincenters = bins[:-1] + (bins[1] - bins[0])\n",
    "binnedUpAges = uptown.age.groupby(pd.cut(uptown.age, bins)).agg([count_nonzero])\n",
    "binnedUpAges\n",
    "\n",
    "binnedDownAges = downtown.age.groupby(pd.cut(downtown.age, bins)).agg([count_nonzero])\n",
    "binnedDownAges\n",
    "\n",
    "klUpAgeMyDistrib = scipy.stats.entropy(binnedUpAges.values.flatten(), \n",
    "                                    mydistribution(bincenters, 30, 47, 5, 10))\n",
    "klDownAgeMyDistrib = scipy.stats.entropy(binnedDownAges.values.flatten(), \n",
    "                                    mydistribution(bincenters, 30, 47, 5, 10))"
   ]
  },
  {
   "cell_type": "code",
   "execution_count": 33,
   "metadata": {
    "collapsed": false
   },
   "outputs": [
    {
     "name": "stdout",
     "output_type": "stream",
     "text": [
      "entropy: of one distribution against the other 0.082 of Uptown distribution against the 2gaussian model 0.028 of Downtown distribution against the 2gaussian model 0.009 of all riders 0.012\n"
     ]
    }
   ],
   "source": [
    "print(\"entropy: of one distribution against the other {0:.3f} \".format(klUpDown) + \n",
    "      \"of Uptown distribution against the 2gaussian model {0:.3f} \".format(klUpAgeMyDistrib) +\n",
    "      \"of Downtown distribution against the 2gaussian model {0:.3f} \".\\\n",
    "      format(klDownAgeMyDistrib) + \n",
    "       \"of all riders {0:.3f}\".format(klAgeMyDistrib))"
   ]
  },
  {
   "cell_type": "markdown",
   "metadata": {},
   "source": [
    "The model I creted describes the Downtown distribution better than the Uptown distribution, and better than the general distribution of ages of riders."
   ]
  },
  {
   "cell_type": "code",
   "execution_count": null,
   "metadata": {
    "collapsed": true
   },
   "outputs": [],
   "source": []
  }
 ],
 "metadata": {
  "kernelspec": {
   "display_name": "Python 3",
   "language": "python",
   "name": "python3"
  },
  "language_info": {
   "codemirror_mode": {
    "name": "ipython",
    "version": 3
   },
   "file_extension": ".py",
   "mimetype": "text/x-python",
   "name": "python",
   "nbconvert_exporter": "python",
   "pygments_lexer": "ipython3",
   "version": "3.5.2"
  }
 },
 "nbformat": 4,
 "nbformat_minor": 0
}
